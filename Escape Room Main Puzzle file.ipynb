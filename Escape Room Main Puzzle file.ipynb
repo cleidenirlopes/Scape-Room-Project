{
 "cells": [
  {
   "cell_type": "code",
   "execution_count": 2,
   "id": "a7a4bc37-a0e1-4994-8012-9a9b08bff706",
   "metadata": {},
   "outputs": [],
   "source": [
    "room_data = {\n",
    "    \"game room\": {\n",
    "        \"description\": \"Welcome to the Spooky House Escape Room Game, a piano and a locked Door A.\",\n",
    "        \"puzzle\":\"What should I do?\",\n",
    "        \"items\": [{\"piano\": \"key_A\"}, \"couch\"],\n",
    "        \"doors\": {\"Door A\": \"locked\"}\n",
    "    },\n",
    "     \"bedroom 1\" : {\n",
    "        \"description\": \"You are in Bedroom 1. You see a queen bed, Door B and Door C.\",\n",
    "        \"items\": [\"queen bed\", \"key_B\"],\n",
    "        \"doors\": {\"Door B\": \"locked\", \"Door C\": \"locked\"}\n",
    "    },\n",
    "    \"bedroom 2\": {\n",
    "        \"description\": \"You're in Bedroom 2. You see a double bed, a dresser, and Door B.\",\n",
    "        \"objects\": [\"double bed\", \"key_C\", \"dresser\", \"key_D\"],\n",
    "        \"doors\": {\"Door B\": \"unlocked\"}\n",
    "    },\n",
    "    \"living room\": {\n",
    "        \"description\": \"You're in the living room. You see a dining table, Door C, and Door D.\",\n",
    "        \"objects\": [\"dining_table\"],\n",
    "        \"doors\": {\"Door D\": \"locked\"}\n",
    "    },\n",
    "    \"outside\": {\n",
    "        \"description\": \"You've stepped outside! Congratulations, you have escaped!\",\n",
    "        \"objects\": {},\n",
    "        \"doors\": {}\n",
    "            }\n",
    "}"
   ]
  },
  {
   "cell_type": "code",
   "execution_count": 3,
   "id": "15f1514f-f78e-418c-896b-c49a2cf30489",
   "metadata": {},
   "outputs": [],
   "source": [
    "# Define Gameroom Scenario"
   ]
  },
  {
   "cell_type": "code",
   "execution_count": 4,
   "id": "079169bd-be90-476b-960f-bc4075f934c8",
   "metadata": {},
   "outputs": [
    {
     "name": "stdout",
     "output_type": "stream",
     "text": [
      "Welcome to the Scape Room Game!\n",
      "You wake up in the game room. Your mission is to find keys and solve puzzles to unlock doors and escape each room.\n",
      "\n",
      "Let the game begin!\n"
     ]
    },
    {
     "name": "stdin",
     "output_type": "stream",
     "text": [
      "What is your name?  lopes\n"
     ]
    },
    {
     "name": "stdout",
     "output_type": "stream",
     "text": [
      "Welcome, lopes! In this room, you see a piano, a couch, and Door A.\n",
      "\n",
      "What would you like to do?\n",
      "1 - Search for the key\n",
      "2 - Exit\n"
     ]
    },
    {
     "name": "stdin",
     "output_type": "stream",
     "text": [
      "Choose an action (1 or 2):  1\n"
     ]
    },
    {
     "name": "stdout",
     "output_type": "stream",
     "text": [
      "\n",
      "Where would you like to search?\n",
      "1 - Piano\n",
      "2 - Couch\n"
     ]
    },
    {
     "name": "stdin",
     "output_type": "stream",
     "text": [
      "Choose an option (1 or 2):  1\n"
     ]
    },
    {
     "name": "stdout",
     "output_type": "stream",
     "text": [
      "You searched the piano and found a key for Door A!\n",
      "\n",
      "Solve the puzzle to unlock Door A\n",
      "1 - String\n",
      "2 - Integer\n",
      "3 - Boolean\n"
     ]
    },
    {
     "name": "stdin",
     "output_type": "stream",
     "text": [
      "\n",
      "What type of data does True and False represent in Python? Choose an option (1, 2, or 3):  3\n"
     ]
    },
    {
     "name": "stdout",
     "output_type": "stream",
     "text": [
      "\n",
      "Well done! Now you have the key.\n"
     ]
    },
    {
     "name": "stdin",
     "output_type": "stream",
     "text": [
      "Use the key to unlock Door A? (1 - Yes, 2 - No):  1\n"
     ]
    },
    {
     "name": "stdout",
     "output_type": "stream",
     "text": [
      "\n",
      "Congratulations, lopes! Welcome to Bedroom 1.\n",
      "In this bedroom, you see a Queen Bed, Door B, and Door C. You need to find the key to escape from this bedroom.\n",
      "\n",
      "What would you like to do?\n",
      "1 - Search for the key\n",
      "2 - Exit\n"
     ]
    },
    {
     "name": "stdin",
     "output_type": "stream",
     "text": [
      "Choose an action (1 or 2):  1\n"
     ]
    },
    {
     "name": "stdout",
     "output_type": "stream",
     "text": [
      "\n",
      "Where would you like to explore?\n",
      "1 - Queen bed\n",
      "2 - Explore the room\n"
     ]
    },
    {
     "name": "stdin",
     "output_type": "stream",
     "text": [
      "Choose an option (1 or 2):  1\n"
     ]
    },
    {
     "name": "stdout",
     "output_type": "stream",
     "text": [
      "You searched the queen bed and found a key!\n",
      "\n",
      "Solve the puzzle to unlock Door B\n",
      "1 - #\n",
      "2 - //\n",
      "3 - /*\n"
     ]
    },
    {
     "name": "stdin",
     "output_type": "stream",
     "text": [
      "\n",
      "What symbol is used to start a comment in Python? Choose an option (1, 2, or 3):  1\n"
     ]
    },
    {
     "name": "stdout",
     "output_type": "stream",
     "text": [
      "\n",
      "Well done! Now you have the key to unlock Door B.\n",
      "\n",
      "Try one of the Doors\n",
      "1 - Door B\n",
      "2 - Door C\n"
     ]
    },
    {
     "name": "stdin",
     "output_type": "stream",
     "text": [
      "Choose an Option! (1 or 2):  1\n"
     ]
    },
    {
     "name": "stdout",
     "output_type": "stream",
     "text": [
      "\n",
      "Congratulations, lopes! Welcome to Bedroom 2.\n",
      "In this bedroom, you see a Double Bed, a Dresser, and Door B. You need to find two keys to escape.\n",
      "\n",
      "What would you like to do?\n",
      "1 - Search for keys\n",
      "2 - Exit\n"
     ]
    },
    {
     "name": "stdin",
     "output_type": "stream",
     "text": [
      "Choose an Option! (1 or 2):  1\n"
     ]
    },
    {
     "name": "stdout",
     "output_type": "stream",
     "text": [
      "\n",
      "Where would you like to search?\n",
      "1 - Double bed\n",
      "2 - Dresser\n"
     ]
    },
    {
     "name": "stdin",
     "output_type": "stream",
     "text": [
      "Choose an option (1 or 2):  1\n"
     ]
    },
    {
     "name": "stdout",
     "output_type": "stream",
     "text": [
      "You searched the double bed and found Key C!\n",
      "You must find another key.\n",
      "\n",
      "Where would you like to search?\n",
      "1 - Double bed\n",
      "2 - Dresser\n"
     ]
    },
    {
     "name": "stdin",
     "output_type": "stream",
     "text": [
      "Choose an option (1 or 2):  2\n"
     ]
    },
    {
     "name": "stdout",
     "output_type": "stream",
     "text": [
      "You searched the dresser and found Key D!\n",
      "Keys in your inventory: ['key_A', 'key_B', 'key_C', 'key_D']\n",
      "\n",
      "You are back in Bedroom 1.\n",
      "\n",
      "What door would you like to open?\n",
      "1 - Door B\n",
      "2 - Door C\n"
     ]
    },
    {
     "name": "stdin",
     "output_type": "stream",
     "text": [
      "Choose an option (1 or 2):  1\n"
     ]
    },
    {
     "name": "stdout",
     "output_type": "stream",
     "text": [
      "\n",
      "Congratulations, lopes! Welcome to the Living Room.\n",
      "\n",
      "What would you like to do?\n",
      "1 - Open Door D\n",
      "2 - Explore the dining table\n",
      "In this room, you see a dining table and Door D.\n"
     ]
    },
    {
     "name": "stdin",
     "output_type": "stream",
     "text": [
      "Choose an option (1 or 2):  1\n"
     ]
    },
    {
     "name": "stdout",
     "output_type": "stream",
     "text": [
      "\n",
      "Solve the puzzle to unlock Door D\n",
      "1 - Returns the sum of a list of numbers.\n",
      "2 - Counts the number of items in an object.\n",
      "3 - Converts a string to lowercase.\n"
     ]
    },
    {
     "name": "stdin",
     "output_type": "stream",
     "text": [
      "\n",
      "In Python, what does the len() function do? Choose an option (1, 2, or 3):  2\n"
     ]
    },
    {
     "name": "stdout",
     "output_type": "stream",
     "text": [
      "\n",
      "Well done! Now you have the key to unlock Door D.\n",
      "\n",
      "Congratulations! You finished all the tasks and escaped the Room!\n",
      "Keys in your inventory: ['key_A', 'key_B', 'key_C', 'key_D']\n",
      "Keys in your inventory: ['key_A', 'key_B', 'key_C', 'key_D']\n"
     ]
    }
   ],
   "source": [
    "# Initialize inventory\n",
    "inventory = {\"keys\": [], \"name\": None, \"play\": True}\n",
    "\n",
    "def start_game():\n",
    "    \"\"\"Function to start the game and transition to the game room.\"\"\"\n",
    "    print(\"Welcome to the Scape Room Game!\")\n",
    "    print(\"You wake up in the game room. Your mission is to find keys and solve puzzles to unlock doors and escape each room.\")\n",
    "    gameroom()\n",
    "\n",
    "def gameroom():\n",
    "    \"\"\"Function for the game room.\"\"\"\n",
    "    print(\"\\nLet the game begin!\")\n",
    "  \n",
    "    name = input(\"What is your name? \")\n",
    "    inventory[\"name\"] = name  # Store name directly in the inventory dictionary\n",
    "    \n",
    "    print(f\"Welcome, {name}! In this room, you see a piano, a couch, and Door A.\")\n",
    "\n",
    "    while inventory[\"play\"]:\n",
    "        print(\"\\nWhat would you like to do?\")\n",
    "        print(\"1 - Search for the key\")\n",
    "        print(\"2 - Exit\")\n",
    "       \n",
    "        action = int(input(\"Choose an action (1 or 2): \"))\n",
    "\n",
    "        if action == 1:\n",
    "            explore_game_room() \n",
    "            break\n",
    "        elif action == 2:\n",
    "            print(\"You decide to exit the game.\")\n",
    "            inventory[\"play\"] = False\n",
    "        else:\n",
    "            print(\"Invalid action. Try again.\")\n",
    "\n",
    "def explore_game_room():\n",
    "    \"\"\"Function to explore the game room.\"\"\"\n",
    "    \n",
    "    while True:\n",
    "        print(\"\\nWhere would you like to search?\")\n",
    "        print(\"1 - Piano\")\n",
    "        print(\"2 - Couch\")\n",
    "\n",
    "        choice = int(input(\"Choose an option (1 or 2): \"))\n",
    "\n",
    "        if choice == 1:\n",
    "            if \"key_A\" not in inventory['keys']:\n",
    "                inventory['keys'].append(\"key_A\")\n",
    "                print(\"You searched the piano and found a key for Door A!\\n\")\n",
    "                puzzle_gameroom()\n",
    "                break            \n",
    "            else:\n",
    "                print(\"You already found the key in the piano.\")\n",
    "            break\n",
    "        elif choice == 2:\n",
    "            print(\"You searched the couch, but it is empty!\")\n",
    "            break  # No recursion here; just exit the loop\n",
    "        else:\n",
    "            print(\"Invalid choice. Please try again.\")\n",
    "\n",
    "    print(\"Keys in your inventory:\", inventory['keys'])\n",
    "\n",
    "def puzzle_gameroom():\n",
    "    print(\"Solve the puzzle to unlock Door A\")\n",
    "  \n",
    "    while True:\n",
    "        print(\"1 - String\")\n",
    "        print(\"2 - Integer\")\n",
    "        print(\"3 - Boolean\")\n",
    "\n",
    "        puzzle_answer = input(\"\\nWhat type of data does True and False represent in Python? Choose an option (1, 2, or 3): \")\n",
    "\n",
    "        if puzzle_answer == \"3\":\n",
    "            print(\"\\nWell done! Now you have the key.\")\n",
    "            break\n",
    "        else:\n",
    "            print(\"Wrong answer, please try again.\")  # Loop repeats for wrong answers\n",
    "\n",
    "    while True:\n",
    "        next_action = input(\"Use the key to unlock Door A? (1 - Yes, 2 - No): \")\n",
    "        if next_action == \"1\":\n",
    "            bedroom1()\n",
    "            break\n",
    "        elif next_action == \"2\":\n",
    "            explore_game_room()\n",
    "            break\n",
    "        else:\n",
    "            print(\"Invalid choice. Please enter '1' or '2'.\")\n",
    "\n",
    "def bedroom1():\n",
    "    \"\"\"Function for Bedroom 1.\"\"\"\n",
    "    \n",
    "    name = inventory[\"name\"]\n",
    "    print(f\"\\nCongratulations, {name}! Welcome to Bedroom 1.\")\n",
    "\n",
    "    print(\"In this bedroom, you see a Queen Bed, Door B, and Door C. You need to find the key to escape from this bedroom.\")\n",
    "     \n",
    "    while True:\n",
    "        print(\"\\nWhat would you like to do?\")\n",
    "        print(\"1 - Search for the key\")\n",
    "        print(\"2 - Exit\")\n",
    "        \n",
    "        action = int(input(\"Choose an action (1 or 2): \"))\n",
    "\n",
    "        if action == 1:\n",
    "            explore_bedroom1()\n",
    "            break\n",
    "        elif action == 2:\n",
    "            print(\"You decide to exit the game.\")\n",
    "            return\n",
    "        else:\n",
    "            print(\"Invalid action. Please try again.\")\n",
    "\n",
    "def explore_bedroom1():\n",
    "    \"\"\"Function to explore Bedroom 1.\"\"\"\n",
    "    while True:\n",
    "        print(\"\\nWhere would you like to explore?\")\n",
    "        print(\"1 - Queen bed\")\n",
    "        print(\"2 - Explore the room\")\n",
    "        \n",
    "        choice = int(input(\"Choose an option (1 or 2): \"))\n",
    "               \n",
    "        if choice == 1:\n",
    "            if \"key_B\" not in inventory['keys']:\n",
    "                inventory['keys'].append(\"key_B\")\n",
    "                print(\"You searched the queen bed and found a key!\")\n",
    "                puzzle_bedroom_1()\n",
    "                choose_door_bedroom1()\n",
    "            else:\n",
    "                print(\"You already found the key in the queen bed.\")\n",
    "            break\n",
    "        elif choice == 2:\n",
    "            print(\"You explore the room but find nothing of interest.\")\n",
    "            break  # Exit the loop\n",
    "        else:\n",
    "            print(\"Invalid choice. Please choose an option (1 or 2).\")\n",
    "\n",
    "    print(\"Keys in your inventory:\", inventory['keys'])\n",
    "\n",
    "def puzzle_bedroom_1():\n",
    "    print(\"\\nSolve the puzzle to unlock Door B\")\n",
    "  \n",
    "    while True:\n",
    "        print(\"1 - #\")\n",
    "        print(\"2 - //\")\n",
    "        print(\"3 - /*\")\n",
    "\n",
    "        puzzle_answer = input(\"\\nWhat symbol is used to start a comment in Python? Choose an option (1, 2, or 3): \")\n",
    "\n",
    "        if puzzle_answer == \"1\":\n",
    "            print(\"\\nWell done! Now you have the key to unlock Door B.\")\n",
    "            break\n",
    "        else:\n",
    "            print(\"Wrong answer, please try again.\")  # Loop repeats for wrong answers\n",
    "\n",
    "def choose_door_bedroom1():\n",
    "    \"\"\"Function to choose which door to unlock in Bedroom 1.\"\"\"\n",
    "    while True:\n",
    "        print(\"\\nTry one of the Doors\")\n",
    "        print(\"1 - Door B\")\n",
    "        print(\"2 - Door C\")\n",
    "              \n",
    "        door_choice = int(input(\"Choose an Option! (1 or 2): \"))\n",
    "       \n",
    "        if door_choice == 1:\n",
    "            bedroom2()\n",
    "            break\n",
    "        elif door_choice == 2:\n",
    "            print(\"Sorry, Door C is locked. You need to find more keys and solve a puzzle. Try Door B.\")\n",
    "        else:\n",
    "            print(\"Invalid choice. Please choose 'Door B' or 'Door C'.\")\n",
    "\n",
    "def bedroom2():\n",
    "    \"\"\"Function for Bedroom 2.\"\"\"\n",
    "    name = inventory[\"name\"]\n",
    "    \n",
    "    print(f\"\\nCongratulations, {name}! Welcome to Bedroom 2.\")\n",
    "    print(\"In this bedroom, you see a Double Bed, a Dresser, and Door B. You need to find two keys to escape.\")\n",
    "\n",
    "    while True:\n",
    "        print(\"\\nWhat would you like to do?\")\n",
    "        print(\"1 - Search for keys\")\n",
    "        print(\"2 - Exit\")\n",
    "        \n",
    "        action = int(input(\"Choose an Option! (1 or 2): \"))\n",
    "\n",
    "        if action == 1:\n",
    "            explore_bedroom2()\n",
    "            bedroom1_return()\n",
    "            break\n",
    "        elif action == 2:\n",
    "            print(\"You decide to exit the game.\")\n",
    "            return inventory[\"play\"] == False\n",
    "        else:\n",
    "            print(\"Invalid action. Try again.\")\n",
    "\n",
    "def explore_bedroom2():\n",
    "    \"\"\"Function to explore Bedroom 2.\"\"\"\n",
    "    i = 0\n",
    "    while i < 2:\n",
    "        print(\"\\nWhere would you like to search?\")\n",
    "        print(\"1 - Double bed\")\n",
    "        print(\"2 - Dresser\")\n",
    "        \n",
    "        choice = int(input(\"Choose an option (1 or 2): \"))\n",
    "        \n",
    "        if choice == 1:\n",
    "            if \"key_C\" not in inventory['keys']:\n",
    "                inventory['keys'].append(\"key_C\")\n",
    "                i += 1\n",
    "                print(\"You searched the double bed and found Key C!\")\n",
    "                print(\"You must find another key.\")\n",
    "            else:\n",
    "                print(\"You already found Key C in the double bed.\")\n",
    "            \n",
    "        elif choice == 2:\n",
    "            if \"key_D\" not in inventory['keys']:\n",
    "                inventory['keys'].append(\"key_D\")\n",
    "                i += 1\n",
    "                print(\"You searched the dresser and found Key D!\")\n",
    "            else:\n",
    "                print(\"You already found Key D in the dresser.\")\n",
    "            \n",
    "        else:\n",
    "            print(\"Invalid choice. Please choose 'Double bed' or 'Dresser'.\")\n",
    "\n",
    "    print(\"Keys in your inventory:\", inventory['keys'])\n",
    "    return 1\n",
    "\n",
    "def bedroom1_return():\n",
    "    name = inventory[\"name\"]\n",
    "    \n",
    "    print(\"\\nYou are back in Bedroom 1.\")\n",
    "        \n",
    "    while inventory[\"play\"] == True:\n",
    "        print(\"\\nWhat door would you like to open?\")\n",
    "        print(\"1 - Door B\")\n",
    "        print(\"2 - Door C\")\n",
    "        \n",
    "        action = int(input(\"Choose an option (1 or 2): \"))\n",
    "        if action == 1:\n",
    "            print(f\"\\nCongratulations, {name}! Welcome to the Living Room.\")\n",
    "            living_room()\n",
    "            return True\n",
    "        elif action == 2:\n",
    "            print(\"You are back to Bedroom 2, please proceed to Door C!\")\n",
    "            bedroom1_return()\n",
    "        else:\n",
    "            print(\"Incorrect answer. Think carefully and try again.\")\n",
    "\n",
    "def puzzle_bedroom_2():\n",
    "    print(\"\\nSolve the puzzle to unlock Door B\")\n",
    "  \n",
    "    while True:\n",
    "        print(\"1 - function\")\n",
    "        print(\"2 - def\")\n",
    "        print(\"3 - fun\")\n",
    "\n",
    "        puzzle_answer = input(\"\\nWhich keyword is used to define a function in Python? Choose an option (1, 2, or 3): \")\n",
    "\n",
    "        if puzzle_answer == \"2\":\n",
    "            print(\"\\nWell done! Now you have the key to unlock Door B.\")\n",
    "            break\n",
    "        else:\n",
    "            print(\"Wrong answer, please try again.\")  # Loop repeats for wrong answers\n",
    "\n",
    "def living_room():\n",
    "    name = inventory[\"name\"]\n",
    "\n",
    "    print(\"\\nWhat would you like to do?\")\n",
    "    print(\"1 - Open Door D\")\n",
    "    print(\"2 - Explore the dining table\")\n",
    "\n",
    "    print(\"In this room, you see a dining table and Door D.\")\n",
    "\n",
    "    action = input(\"Choose an option (1 or 2): \")\n",
    "    \n",
    "    if action == \"2\":\n",
    "        print(\"We apologize, but the restaurant is closed.\")\n",
    "        living_room()  # Call the function again to allow for another choice\n",
    "    elif action == \"1\":\n",
    "        puzzle_livingroom()\n",
    "        print(\"\\nCongratulations! You finished all the tasks and escaped the Room!\")\n",
    "        return  # End the game here\n",
    "    else:\n",
    "        print(\"Invalid choice. Please choose '1' or '2'.\")\n",
    "        living_room()  # Call the function again to allow for another choice\n",
    "\n",
    "def puzzle_livingroom():\n",
    "    print(\"\\nSolve the puzzle to unlock Door D\")\n",
    "  \n",
    "    while True:\n",
    "        print(\"1 - Returns the sum of a list of numbers.\")\n",
    "        print(\"2 - Counts the number of items in an object.\")\n",
    "        print(\"3 - Converts a string to lowercase.\")\n",
    "\n",
    "        puzzle_answer = input(\"\\nIn Python, what does the len() function do? Choose an option (1, 2, or 3): \")\n",
    "\n",
    "        if puzzle_answer == \"2\":\n",
    "            print(\"\\nWell done! Now you have the key to unlock Door D.\")\n",
    "            break\n",
    "        else:\n",
    "            print(\"Wrong answer, please try again.\")  # Loop repeats for wrong answers\n",
    "\n",
    "# Start the game\n",
    "start_game()"
   ]
  },
  {
   "cell_type": "code",
   "execution_count": null,
   "id": "b4e13b11-425d-43c4-bb13-73074580bcc4",
   "metadata": {},
   "outputs": [],
   "source": []
  },
  {
   "cell_type": "code",
   "execution_count": null,
   "id": "0a436be6-3176-407a-a21d-9252e0a20226",
   "metadata": {},
   "outputs": [],
   "source": []
  }
 ],
 "metadata": {
  "kernelspec": {
   "display_name": "Python 3 (ipykernel)",
   "language": "python",
   "name": "python3"
  },
  "language_info": {
   "codemirror_mode": {
    "name": "ipython",
    "version": 3
   },
   "file_extension": ".py",
   "mimetype": "text/x-python",
   "name": "python",
   "nbconvert_exporter": "python",
   "pygments_lexer": "ipython3",
   "version": "3.12.4"
  }
 },
 "nbformat": 4,
 "nbformat_minor": 5
}
